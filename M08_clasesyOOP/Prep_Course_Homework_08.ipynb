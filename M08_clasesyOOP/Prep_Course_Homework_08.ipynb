{
 "cells": [
  {
   "attachments": {},
   "cell_type": "markdown",
   "metadata": {},
   "source": [
    "## Clases y Programación Orientada a Objetos"
   ]
  },
  {
   "attachments": {},
   "cell_type": "markdown",
   "metadata": {},
   "source": [
    "1) Crear la clase vehículo que contenga los atributos:<br>\n",
    "Color<br>\n",
    "Si es moto, auto, camioneta ó camión<br>\n",
    "Cilindrada del motor"
   ]
  },
  {
   "cell_type": "code",
   "execution_count": 11,
   "metadata": {},
   "outputs": [],
   "source": [
    "class Vehiculo:\n",
    "    def __init__(self, color, tipo, cilindrada):\n",
    "        self.color = color\n",
    "        self.tipo = tipo\n",
    "        self.cilindrada = cilindrada"
   ]
  },
  {
   "attachments": {},
   "cell_type": "markdown",
   "metadata": {},
   "source": [
    "2) A la clase Vehiculo creada en el punto 1, agregar los siguientes métodos:<br>\n",
    "Acelerar<br>\n",
    "Frenar<br>\n",
    "Doblar<br>"
   ]
  },
  {
   "cell_type": "code",
   "execution_count": 15,
   "metadata": {},
   "outputs": [],
   "source": [
    "class Vehiculo:\n",
    "    def __init__(self, color, tipo, cilindrada):\n",
    "        self.color = color\n",
    "        self.tipo = tipo\n",
    "        self.cilindrada = cilindrada\n",
    "        self.velocidad = 0\n",
    "        self.direccion = 0\n",
    "    def acelerar(self, v):\n",
    "        self.velocidad += v\n",
    "        print(self.tipo, 'Acelerando...')\n",
    "    def frenar(self, v):\n",
    "        self.velocidad -= v\n",
    "        print(self.tipo, 'Frenando...')\n",
    "    def doblar(self, g):\n",
    "        self.direccion += g\n",
    "        print(self.tipo, 'Doblando...')\n"
   ]
  },
  {
   "attachments": {},
   "cell_type": "markdown",
   "metadata": {},
   "source": [
    "3) Instanciar 3 objetos de la clase vehículo y ejecutar sus métodos, probar luego el resultado"
   ]
  },
  {
   "cell_type": "code",
   "execution_count": 19,
   "metadata": {},
   "outputs": [
    {
     "name": "stdout",
     "output_type": "stream",
     "text": [
      "moto Acelerando...\n",
      "moto Frenando...\n",
      "moto Doblando...\n",
      "auto Acelerando...\n",
      "auto Frenando...\n",
      "auto Doblando...\n",
      "camioneta Acelerando...\n",
      "camioneta Frenando...\n",
      "camioneta Doblando...\n"
     ]
    }
   ],
   "source": [
    "moto = Vehiculo('negro', 'moto', 100)\n",
    "moto.acelerar(5)\n",
    "moto.frenar(2)\n",
    "moto.doblar(7)\n",
    "\n",
    "auto = Vehiculo('rojo', 'auto', 150)\n",
    "auto.acelerar(9)\n",
    "auto.frenar(6)\n",
    "auto.doblar(9)\n",
    "\n",
    "camioneta = Vehiculo('blanco', 'camioneta', 200)\n",
    "camioneta.acelerar(12)\n",
    "camioneta.frenar(9)\n",
    "camioneta.doblar(32)\n",
    "\n"
   ]
  },
  {
   "attachments": {},
   "cell_type": "markdown",
   "metadata": {},
   "source": [
    "4) Agregar a la clase Vehiculo, un método que muestre su estado, es decir, a que velocidad se encuentra y su dirección. Y otro método que muestre color, tipo y cilindrada"
   ]
  },
  {
   "cell_type": "code",
   "execution_count": 22,
   "metadata": {},
   "outputs": [
    {
     "name": "stdout",
     "output_type": "stream",
     "text": [
      "camión Acelerando...\n",
      "camión Doblando...\n",
      "Va a una velocidad 32 , con dirección 45\n",
      "El vehiculo es de color azul , es de tipo camión y tiene cilindrada 250\n"
     ]
    }
   ],
   "source": [
    "class Vehiculo:\n",
    "    def __init__(self, color, tipo, cilindrada):\n",
    "        self.color = color\n",
    "        self.tipo = tipo\n",
    "        self.cilindrada = cilindrada\n",
    "        self.velocidad = 0\n",
    "        self.direccion = 0\n",
    "    def acelerar(self, v):\n",
    "        self.velocidad += v\n",
    "        print(self.tipo, 'Acelerando...')\n",
    "    def frenar(self, v):\n",
    "        self.velocidad -= v\n",
    "        print(self.tipo, 'Frenando...')\n",
    "    def doblar(self, g):\n",
    "        self.direccion += g\n",
    "        print(self.tipo, 'Doblando...')\n",
    "    def estado(self):\n",
    "        print('Va a una velocidad', self.velocidad, ', con dirección', self.direccion)\n",
    "    def atributos(self):\n",
    "        print('El vehiculo es de color', self.color, ', es de tipo', self.tipo, 'y tiene cilindrada', self.cilindrada)\n",
    "\n",
    "camion = Vehiculo('azul', 'camión', 250)\n",
    "camion.acelerar(32)\n",
    "camion.doblar(45)\n",
    "camion.estado()\n",
    "camion.atributos()"
   ]
  },
  {
   "attachments": {},
   "cell_type": "markdown",
   "metadata": {},
   "source": [
    "5) Crear una clase que permita utilizar las funciones creadas en la práctica del módulo 7<br>\n",
    "Verificar Primo<br>\n",
    "Valor modal<br>\n",
    "Conversión grados<br>\n",
    "Factorial<br>"
   ]
  },
  {
   "cell_type": "code",
   "execution_count": 1,
   "metadata": {},
   "outputs": [],
   "source": [
    "class FunctionsM07:\n",
    "    def __init__(self) -> None:\n",
    "        pass\n",
    "    \n",
    "    def verificar_primo(self, num):\n",
    "        if num <= 1:\n",
    "            return False\n",
    "        for i in range(2, num):\n",
    "            if num % i == 0:\n",
    "                return False\n",
    "        return True\n",
    "    \n",
    "    def valor_modal(self, num_list):\n",
    "        e_r = 0\n",
    "        c_r = 0\n",
    "        for e in num_list:\n",
    "            if num_list.count(e) > c_r:\n",
    "                e_r = e\n",
    "                c_r = num_list.count(e)\n",
    "        return e_r, c_r\n",
    "    \n",
    "    def conversion_grados(self, value, measure_origen, measure_destiny):\n",
    "        if measure_origen == 'c':\n",
    "            if measure_destiny == 'f':\n",
    "                return (value * 9/5) + 32\n",
    "            elif measure_destiny == 'k':\n",
    "                return value + 273.15\n",
    "            else:\n",
    "                print('Not valid measure destiny parameter') \n",
    "        elif measure_origen == 'f':\n",
    "            if measure_destiny == 'c':\n",
    "                return (value - 32) * 5/9\n",
    "            elif measure_destiny == 'k':\n",
    "                return (value - 32) * 5/9 + 273.15\n",
    "            else:\n",
    "                print('Not valid measure destiny parameter')\n",
    "        elif measure_origen == 'k':\n",
    "            if measure_destiny == 'c':\n",
    "                return value - 273.15\n",
    "            elif measure_destiny == 'f':\n",
    "                return ((value - 273.15) * 9/5) + 32\n",
    "            else:\n",
    "                print('Not valid measure destiny parameter')\n",
    "        else:\n",
    "            print('Not valid measure origen parameter')\n",
    "\n",
    "    def factorial(self, n):\n",
    "        if type(n) != int or n < 0:\n",
    "            return 'Invalid parameter'\n",
    "        elif n <= 1:\n",
    "            return 1\n",
    "        else:\n",
    "            return n * self.factorial(n - 1)\n"
   ]
  },
  {
   "attachments": {},
   "cell_type": "markdown",
   "metadata": {},
   "source": [
    "6) Probar las funciones incorporadas en la clase del punto 5"
   ]
  },
  {
   "cell_type": "code",
   "execution_count": 2,
   "metadata": {},
   "outputs": [
    {
     "name": "stdout",
     "output_type": "stream",
     "text": [
      "False\n",
      "(8, 2)\n",
      "33.8\n",
      "720\n"
     ]
    }
   ],
   "source": [
    "l = [1, 5, 8, 4, 3, 7, 8, 2]\n",
    "fs = FunctionsM07()\n",
    "print(fs.verificar_primo(9))\n",
    "print(fs.valor_modal(l))\n",
    "print(fs.conversion_grados(1, 'c', 'f'))\n",
    "print(fs.factorial(6))"
   ]
  },
  {
   "attachments": {},
   "cell_type": "markdown",
   "metadata": {},
   "source": [
    "7) Es necesario que la clase creada en el punto 5 contenga una lista, sobre la cual se apliquen las funciones incorporadas"
   ]
  },
  {
   "cell_type": "code",
   "execution_count": 3,
   "metadata": {},
   "outputs": [],
   "source": [
    "class FunctionsM07:\n",
    "    def __init__(self, number_list):\n",
    "        self.number_list = number_list\n",
    "\n",
    "    def __verificar_primo(self, num):\n",
    "        if num <= 1:\n",
    "            return False\n",
    "        for i in range(2, num):\n",
    "            if num % i == 0:\n",
    "                return False\n",
    "        return True\n",
    "    def verificar_primo(self):\n",
    "        for e in self.number_list:\n",
    "            if self.__verificar_primo(e):\n",
    "                print(e, 'It is a prime number')\n",
    "            else:\n",
    "                print(e, 'It is not a prime number')\n",
    "    \n",
    "    def __valor_modal(self, num_list):\n",
    "        e_r = 0\n",
    "        c_r = 0\n",
    "        for e in num_list:\n",
    "            if num_list.count(e) > c_r:\n",
    "                e_r = e\n",
    "                c_r = num_list.count(e)\n",
    "        return e_r, c_r\n",
    "    def valor_modal(self):\n",
    "        m, r = self.__valor_modal(self.number_list)\n",
    "        print('The modal is', m, 'and it is repited', r, 'times')\n",
    "    \n",
    "    def __conversion_grados(self, value, measure_origen, measure_destiny):\n",
    "        if measure_origen == 'c':\n",
    "            if measure_destiny == 'f':\n",
    "                return (value * 9/5) + 32\n",
    "            elif measure_destiny == 'k':\n",
    "                return value + 273.15\n",
    "            else:\n",
    "                print('Not valid measure destiny parameter') \n",
    "        elif measure_origen == 'f':\n",
    "            if measure_destiny == 'c':\n",
    "                return (value - 32) * 5/9\n",
    "            elif measure_destiny == 'k':\n",
    "                return (value - 32) * 5/9 + 273.15\n",
    "            else:\n",
    "                print('Not valid measure destiny parameter')\n",
    "        elif measure_origen == 'k':\n",
    "            if measure_destiny == 'c':\n",
    "                return value - 273.15\n",
    "            elif measure_destiny == 'f':\n",
    "                return ((value - 273.15) * 9/5) + 32\n",
    "            else:\n",
    "                print('Not valid measure destiny parameter')\n",
    "        else:\n",
    "            print('Not valid measure origen parameter')\n",
    "    def conversion_grados(self, origin, destiny):\n",
    "        for e in self.number_list:\n",
    "            print(e, origin, 'is', self.__conversion_grados(e, origin, destiny), destiny)\n",
    "\n",
    "    def __factorial(self, n):\n",
    "        if type(n) != int or n < 0:\n",
    "            return 'Invalid parameter'\n",
    "        elif n <= 1:\n",
    "            return 1\n",
    "        else:\n",
    "            return n * self.factorial(n - 1)\n",
    "    def factorial(self):\n",
    "        for e in self.number_list:\n",
    "            print('The factorial of', e, 'is', self.__factorial(e))"
   ]
  },
  {
   "attachments": {},
   "cell_type": "markdown",
   "metadata": {},
   "source": [
    "8) Crear un archivo .py aparte y ubicar allí la clase generada en el punto anterior. Luego realizar la importación del módulo y probar alguna de sus funciones"
   ]
  },
  {
   "cell_type": "code",
   "execution_count": 1,
   "metadata": {},
   "outputs": [
    {
     "name": "stdout",
     "output_type": "stream",
     "text": [
      "1 c is 33.8 f\n",
      "3 c is 37.4 f\n",
      "7 c is 44.6 f\n",
      "3 c is 37.4 f\n",
      "5 c is 41.0 f\n",
      "2 c is 35.6 f\n",
      "3 c is 37.4 f\n",
      "1 c is 33.8 f\n",
      "5 c is 41.0 f\n",
      "The factorial of 1 is 1\n",
      "The factorial of 3 is 6\n",
      "The factorial of 7 is 5040\n",
      "The factorial of 3 is 6\n",
      "The factorial of 5 is 120\n",
      "The factorial of 2 is 2\n",
      "The factorial of 3 is 6\n",
      "The factorial of 1 is 1\n",
      "The factorial of 5 is 120\n",
      "The modal is 3 and it is repited 3 times\n",
      "1 It is not a prime number\n",
      "3 It is a prime number\n",
      "7 It is a prime number\n",
      "3 It is a prime number\n",
      "5 It is a prime number\n",
      "2 It is a prime number\n",
      "3 It is a prime number\n",
      "1 It is not a prime number\n",
      "5 It is a prime number\n"
     ]
    }
   ],
   "source": [
    "import functions as f\n",
    "func = f.FunctionsM07([1, 3, 7, 3, 5, 2, 3, 1, 5])\n",
    "func.conversion_grados('c', 'f')\n",
    "func.factorial()\n",
    "func.valor_modal()\n",
    "func.verificar_primo()"
   ]
  }
 ],
 "metadata": {
  "interpreter": {
   "hash": "c85384e4cb51c8b72350f3a8712cc8351fdc3955e32a27f9b60c6242ab125f01"
  },
  "kernelspec": {
   "display_name": "Python 3 (ipykernel)",
   "language": "python",
   "name": "python3"
  },
  "language_info": {
   "codemirror_mode": {
    "name": "ipython",
    "version": 3
   },
   "file_extension": ".py",
   "mimetype": "text/x-python",
   "name": "python",
   "nbconvert_exporter": "python",
   "pygments_lexer": "ipython3",
   "version": "3.12.0"
  }
 },
 "nbformat": 4,
 "nbformat_minor": 4
}
