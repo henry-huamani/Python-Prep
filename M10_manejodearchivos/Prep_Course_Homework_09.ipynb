{
 "cells": [
  {
   "cell_type": "markdown",
   "metadata": {},
   "source": [
    "## Entrada / Salida\n",
    "\n",
    "1) Crear un script con el nombre \"clase09_ej1.py\" que reciba 3 parametros a elección, verificando que sean exactamente esa cantidad, y muestre como salida los parámetros recibidos"
   ]
  },
  {
   "cell_type": "code",
   "execution_count": 10,
   "metadata": {},
   "outputs": [],
   "source": [
    "f = open('clase09_ej1_mysolution.py', 'w')\n",
    "f.write('''\n",
    "import sys\n",
    "if len(sys.argv) == 4:\n",
    "        print('The first param is:', sys.argv[1])\n",
    "        print('The second param is:', sys.argv[2])\n",
    "        print('The third param is:', sys.argv[3])\n",
    "else:\n",
    "        print('ERROR: You have to pass 3 arguments exactly')\n",
    "''')\n",
    "f.close()"
   ]
  },
  {
   "cell_type": "code",
   "execution_count": 3,
   "metadata": {},
   "outputs": [
    {
     "name": "stdout",
     "output_type": "stream",
     "text": [
      "c:\\Users\\USUARIO\\Desktop\\Tech Capacitation\\Python-Prep\\M10_manejodearchivos\n",
      "b'ERROR: You have to pass 3 arguments exactly\\r\\n'\n",
      "b'The first param is: 1\\r\\nThe second param is: 2\\r\\nThe third param is: 3\\r\\n'\n"
     ]
    }
   ],
   "source": [
    "import subprocess\n",
    "import os\n",
    "print(os.getcwd())\n",
    "print(subprocess.check_output(['python', 'clase09_ej1_mysolution.py', '1', '2']))\n",
    "print(subprocess.check_output(['python', 'clase09_ej1_mysolution.py', '1', '2', '3']))"
   ]
  },
  {
   "cell_type": "markdown",
   "metadata": {},
   "source": [
    "2) Crear un script con el nombre \"clase09_ej2.py2\" que reciba como un valor de temperatura en grados centígrados, un valor de humedad y por último si llovio (Con True o False). Y que cada vez que sea invocado, cargue en el archivo provisto \"clase09_ej2.csv\" una marca de tiempo y esa información.\n",
    "\n",
    "Para trabajar con tipos de datos relacionados con la medición del tiempo, como ser fechas, horarios o marcas de tiempo se puede utilizar la clase *datetime*"
   ]
  },
  {
   "cell_type": "code",
   "execution_count": 12,
   "metadata": {},
   "outputs": [
    {
     "name": "stdout",
     "output_type": "stream",
     "text": [
      "Ahora = 2023-11-10 13:14:18.685987\n",
      "Fecha fija = 2020-05-10 00:00:00\n",
      "objeto datetime = 2022-05-10 12:30:00\n",
      "timestamp = 1652203800.0\n",
      "fecha hora = 2022-05-10 12:30:00\n"
     ]
    }
   ],
   "source": [
    "import datetime\n",
    "\n",
    "x = datetime.datetime.now()\n",
    "print(\"Ahora =\",x)\n",
    "x = datetime.datetime(2020, 5, 10)\n",
    "print(\"Fecha fija =\",x)\n",
    "\n",
    "fecha_hora = '2022-05-10 12:30:00'\n",
    "objeto_datetime = datetime.datetime.strptime(fecha_hora, '%Y-%m-%d %H:%M:%S')\n",
    "print(\"objeto datetime =\", objeto_datetime)\n",
    "marca_de_tiempo = datetime.datetime.timestamp(objeto_datetime)\n",
    "print(\"timestamp =\", marca_de_tiempo)\n",
    "fecha_hora2 = datetime.datetime.fromtimestamp(marca_de_tiempo)\n",
    "print(\"fecha hora =\", fecha_hora2)"
   ]
  },
  {
   "cell_type": "code",
   "execution_count": 4,
   "metadata": {},
   "outputs": [
    {
     "name": "stdout",
     "output_type": "stream",
     "text": [
      "c:\\Users\\USUARIO\\Desktop\\Tech Capacitation\\Python-Prep\\M10_manejodearchivos\n",
      "b'The params need to be 3: [humedad, temperatura, lluvia]\\r\\n'\n",
      "b'Success!\\r\\n'\n",
      "b'Success!\\r\\n'\n"
     ]
    }
   ],
   "source": [
    "import subprocess\n",
    "import os\n",
    "print(os.getcwd())\n",
    "print(subprocess.check_output(['python', 'clase09_ej2_mysolution.py', '1', '2']))\n",
    "print(subprocess.check_output(['python', 'clase09_ej2_mysolution.py', '10', '25', 'False']))\n",
    "print(subprocess.check_output(['python', 'clase09_ej2_mysolution.py', '50', '5', 'True']))"
   ]
  },
  {
   "cell_type": "markdown",
   "metadata": {},
   "source": [
    "3) Crear un archivo a partir de los datos presentes en el diccionario provisto. El cual debe contener en la primera fila el nombre de las claves y luego cada línea los elementos i-ésimos de las listas de valores contiguos y separados por coma ','. Este archivo debe llamarse clase09_ej3.csv\n",
    "\n",
    "``` python\n",
    "montañas = {'nombre':[  'Everest','K2','Kanchenjunga','Lhotse','Makalu',\n",
    "                        'Cho Oyu','Dhaulagiri','Manaslu','Nanga Parbat','Annapurna I'],\n",
    "            'orden':[1,2,3,4,5,6,7,8,9,10],\n",
    "            'cordillera':['Himalaya','Karakórum','Himalaya','Himalaya','Himalaya'\n",
    "                        ,'Himalaya','Himalaya','Himalaya','Karakórum','Himalaya'],\n",
    "            'pais': ['Nepal','Pakistán','Nepal','Nepal','Nepal','Nepal','Nepal','Nepal',\n",
    "                    'Pakistán','Nepal'],\n",
    "            'altura':[8849,8611,8586,8516,8485,8188,8167,8163,8125,8091]}\n",
    "```"
   ]
  },
  {
   "cell_type": "code",
   "execution_count": 6,
   "metadata": {},
   "outputs": [],
   "source": [
    "montanas = {'nombre':[  'Everest','K2','Kanchenjunga','Lhotse','Makalu',\n",
    "                        'Cho Oyu','Dhaulagiri','Manaslu','Nanga Parbat','Annapurna I'],\n",
    "            'orden':[1,2,3,4,5,6,7,8,9,10],\n",
    "            'cordillera':['Himalaya','Karakórum','Himalaya','Himalaya','Himalaya'\n",
    "                        ,'Himalaya','Himalaya','Himalaya','Karakórum','Himalaya'],\n",
    "            'pais': ['Nepal','Pakistán','Nepal','Nepal','Nepal','Nepal','Nepal','Nepal',\n",
    "                    'Pakistán','Nepal'],\n",
    "            'altura':[8849,8611,8586,8516,8485,8188,8167,8163,8125,8091]}\n",
    "\n",
    "f = open('clase09_ej3_mysolution.csv', 'w')\n",
    "for k in montanas.keys():\n",
    "    if k != 'altura':\n",
    "        f.write(f'{k},')\n",
    "    else:\n",
    "        f.write(f'{k}\\n')\n",
    "\n",
    "i = 0\n",
    "while i < 10:\n",
    "    f.write(f'{montanas['nombre'][i]},')\n",
    "    f.write(f'{montanas['orden'][i]},')\n",
    "    f.write(f'{montanas['cordillera'][i]},')\n",
    "    f.write(f'{montanas['pais'][i]},')\n",
    "    f.write(f'{montanas['altura'][i]}\\n')\n",
    "    i += 1\n",
    "\n",
    "f.close()\n"
   ]
  },
  {
   "cell_type": "code",
   "execution_count": 7,
   "metadata": {},
   "outputs": [
    {
     "name": "stdout",
     "output_type": "stream",
     "text": [
      "nombre,orden,cordillera,pais,altura\n",
      "Everest,1,Himalaya,Nepal,8849\n",
      "K2,2,Karakórum,Pakistán,8611\n",
      "Kanchenjunga,3,Himalaya,Nepal,8586\n",
      "Lhotse,4,Himalaya,Nepal,8516\n",
      "Makalu,5,Himalaya,Nepal,8485\n",
      "Cho Oyu,6,Himalaya,Nepal,8188\n",
      "Dhaulagiri,7,Himalaya,Nepal,8167\n",
      "Manaslu,8,Himalaya,Nepal,8163\n",
      "Nanga Parbat,9,Karakórum,Pakistán,8125\n",
      "Annapurna I,10,Himalaya,Nepal,8091\n",
      "\n"
     ]
    }
   ],
   "source": [
    "f = open('clase09_ej3_mysolution.csv', 'r')\n",
    "print(f.read())\n"
   ]
  },
  {
   "cell_type": "markdown",
   "metadata": {},
   "source": [
    "4) Mostrar el tamaño en MB del archivo generado en el punto 3"
   ]
  },
  {
   "cell_type": "code",
   "execution_count": 17,
   "metadata": {},
   "outputs": [
    {
     "name": "stdout",
     "output_type": "stream",
     "text": [
      "File size: 0.36 MB\n"
     ]
    }
   ],
   "source": [
    "print('File size:', str(round(os.path.getsize('clase09_ej3_mysolution.csv')/1024, 2)),'MB')"
   ]
  },
  {
   "cell_type": "markdown",
   "metadata": {},
   "source": [
    "5) Crear una carpeta llamada clase09_montañas_altas"
   ]
  },
  {
   "cell_type": "code",
   "execution_count": 18,
   "metadata": {},
   "outputs": [],
   "source": [
    "import os\n",
    "os.mkdir('clase09_montañas_altas_mysolution')"
   ]
  },
  {
   "cell_type": "markdown",
   "metadata": {},
   "source": [
    "6) Copiar el archivo clase09_ej3.scv en la carpeta clase09_montañas_altas usando la sentencia **os.system**"
   ]
  },
  {
   "cell_type": "code",
   "execution_count": 19,
   "metadata": {},
   "outputs": [
    {
     "data": {
      "text/plain": [
       "0"
      ]
     },
     "execution_count": 19,
     "metadata": {},
     "output_type": "execute_result"
    }
   ],
   "source": [
    "import os\n",
    "os.system('copy clase09_ej3_mysolution.csv clase09_montañas_altas_mysolution')"
   ]
  },
  {
   "cell_type": "markdown",
   "metadata": {},
   "source": [
    "7) Listar el contenido de la carpeta clase09_montañas_altas"
   ]
  },
  {
   "cell_type": "code",
   "execution_count": 20,
   "metadata": {},
   "outputs": [
    {
     "data": {
      "text/plain": [
       "['clase09_ej3_mysolution.csv']"
      ]
     },
     "execution_count": 20,
     "metadata": {},
     "output_type": "execute_result"
    }
   ],
   "source": [
    "import os\n",
    "os.listdir('clase09_montañas_altas_mysolution')"
   ]
  }
 ],
 "metadata": {
  "kernelspec": {
   "display_name": "Python 3",
   "language": "python",
   "name": "python3"
  },
  "language_info": {
   "codemirror_mode": {
    "name": "ipython",
    "version": 3
   },
   "file_extension": ".py",
   "mimetype": "text/x-python",
   "name": "python",
   "nbconvert_exporter": "python",
   "pygments_lexer": "ipython3",
   "version": "3.12.0"
  }
 },
 "nbformat": 4,
 "nbformat_minor": 2
}
