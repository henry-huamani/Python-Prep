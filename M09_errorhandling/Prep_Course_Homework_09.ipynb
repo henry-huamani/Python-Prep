{
 "cells": [
  {
   "attachments": {},
   "cell_type": "markdown",
   "metadata": {},
   "source": [
    "## Manejo de errores"
   ]
  },
  {
   "attachments": {},
   "cell_type": "markdown",
   "metadata": {},
   "source": [
    "1) Con la clase creada en el módulo 7, tener en cuenta diferentes casos en que el código pudiera arrojar error. Por ejemplo, en la creación del objeto recibimos una lista de números enteros pero ¿qué pasa si se envía otro tipo de dato?"
   ]
  },
  {
   "cell_type": "code",
   "execution_count": 15,
   "metadata": {},
   "outputs": [
    {
     "ename": "ValueError",
     "evalue": "The list must contain just integer values",
     "output_type": "error",
     "traceback": [
      "\u001b[1;31m---------------------------------------------------------------------------\u001b[0m",
      "\u001b[1;31mValueError\u001b[0m                                Traceback (most recent call last)",
      "\u001b[1;32mc:\\Users\\USUARIO\\Desktop\\Tech Capacitation\\Python-Prep\\M09_errorhandling\\Prep_Course_Homework_09.ipynb Cell 3\u001b[0m line \u001b[0;36m5\n\u001b[0;32m      <a href='vscode-notebook-cell:/c%3A/Users/USUARIO/Desktop/Tech%20Capacitation/Python-Prep/M09_errorhandling/Prep_Course_Homework_09.ipynb#W2sZmlsZQ%3D%3D?line=1'>2</a>\u001b[0m sys\u001b[39m.\u001b[39mpath\u001b[39m.\u001b[39mappend(\u001b[39mr\u001b[39m\u001b[39m'\u001b[39m\u001b[39m./functionsM07.py\u001b[39m\u001b[39m'\u001b[39m)\n\u001b[0;32m      <a href='vscode-notebook-cell:/c%3A/Users/USUARIO/Desktop/Tech%20Capacitation/Python-Prep/M09_errorhandling/Prep_Course_Homework_09.ipynb#W2sZmlsZQ%3D%3D?line=3'>4</a>\u001b[0m \u001b[39mimport\u001b[39;00m \u001b[39mfunctionsM07\u001b[39;00m \u001b[39mas\u001b[39;00m \u001b[39mfM07\u001b[39;00m\n\u001b[1;32m----> <a href='vscode-notebook-cell:/c%3A/Users/USUARIO/Desktop/Tech%20Capacitation/Python-Prep/M09_errorhandling/Prep_Course_Homework_09.ipynb#W2sZmlsZQ%3D%3D?line=4'>5</a>\u001b[0m f \u001b[39m=\u001b[39m fM07\u001b[39m.\u001b[39;49mFunctionsM07([\u001b[39m4\u001b[39;49m, \u001b[39m6\u001b[39;49m, \u001b[39m'\u001b[39;49m\u001b[39m3\u001b[39;49m\u001b[39m'\u001b[39;49m, \u001b[39m4\u001b[39;49m])\n",
      "File \u001b[1;32mc:\\Users\\USUARIO\\Desktop\\Tech Capacitation\\Python-Prep\\M09_errorhandling\\functionsM07.py:10\u001b[0m, in \u001b[0;36mFunctionsM07.__init__\u001b[1;34m(self, number_list)\u001b[0m\n\u001b[0;32m      8\u001b[0m     \u001b[39mif\u001b[39;00m \u001b[39mtype\u001b[39m(e) \u001b[39m!=\u001b[39m \u001b[39mint\u001b[39m:\n\u001b[0;32m      9\u001b[0m         \u001b[39mself\u001b[39m\u001b[39m.\u001b[39mnumber_list \u001b[39m=\u001b[39m []\n\u001b[1;32m---> 10\u001b[0m         \u001b[39mraise\u001b[39;00m \u001b[39mValueError\u001b[39;00m(\u001b[39m'\u001b[39m\u001b[39mThe list must contain just integer values\u001b[39m\u001b[39m'\u001b[39m)\n\u001b[0;32m     11\u001b[0m \u001b[39mself\u001b[39m\u001b[39m.\u001b[39mnumber_list \u001b[39m=\u001b[39m number_list\n",
      "\u001b[1;31mValueError\u001b[0m: The list must contain just integer values"
     ]
    }
   ],
   "source": [
    "import sys\n",
    "sys.path.append(r'./functionsM07.py')\n",
    "\n",
    "import functionsM07 as fM07\n",
    "f = fM07.FunctionsM07([4, 6, '3', 4])"
   ]
  },
  {
   "attachments": {},
   "cell_type": "markdown",
   "metadata": {},
   "source": [
    "2) En la función que hace la conversión de grados, validar que los parámetros enviados sean los esperados, de no serlo, informar cuáles son los valores esperados."
   ]
  },
  {
   "cell_type": "code",
   "execution_count": 26,
   "metadata": {},
   "outputs": [
    {
     "name": "stdout",
     "output_type": "stream",
     "text": [
      "Invalid param, it can take just this values ['c', 'f', 'k']\n",
      "Invalid param, it can take just this values ['c', 'f', 'k']\n"
     ]
    },
    {
     "data": {
      "text/plain": [
       "[255.92777777777775, 256.4833333333333, 257.0388888888889]"
      ]
     },
     "execution_count": 26,
     "metadata": {},
     "output_type": "execute_result"
    }
   ],
   "source": [
    "import importlib\n",
    "importlib.reload(fM07)\n",
    "\n",
    "f = fM07.FunctionsM07([1, 2, 3])\n",
    "f.conversion_grados('d', 'f')\n",
    "f.conversion_grados('c', 'e')\n",
    "f.conversion_grados('f', 'k')"
   ]
  },
  {
   "attachments": {},
   "cell_type": "markdown",
   "metadata": {},
   "source": [
    "3) Importar el modulo \"unittest\" y crear los siguientes casos de pruebas sobre la clase utilizada en el punto 2<br>\n",
    "Creacion del objeto incorrecta<br>\n",
    "Creacion correcta del objeto<br>\n",
    "Metodo valor_modal()<br>\n",
    "\n",
    "Se puede usar \"raise ValueError()\" en la creación de la clase para verificar el error. Investigar sobre esta funcionalidad."
   ]
  },
  {
   "cell_type": "code",
   "execution_count": 18,
   "metadata": {},
   "outputs": [
    {
     "name": "stderr",
     "output_type": "stream",
     "text": [
      "test_creacion_objeto_correcta (__main__.FunctionsM07Test.test_creacion_objeto_correcta) ... ok\n",
      "test_creacion_objeto_incorrecta (__main__.FunctionsM07Test.test_creacion_objeto_incorrecta) ... ok\n",
      "test_metodo_valor_modal (__main__.FunctionsM07Test.test_metodo_valor_modal) ... ok\n",
      "\n",
      "----------------------------------------------------------------------\n",
      "Ran 3 tests in 0.014s\n",
      "\n",
      "OK\n"
     ]
    },
    {
     "name": "stdout",
     "output_type": "stream",
     "text": [
      "The modal is 5 and it is repited 2 times\n"
     ]
    },
    {
     "data": {
      "text/plain": [
       "<unittest.main.TestProgram at 0x1f2ed696d50>"
      ]
     },
     "execution_count": 18,
     "metadata": {},
     "output_type": "execute_result"
    }
   ],
   "source": [
    "import unittest\n",
    "import functionsM07 as fM07\n",
    "\n",
    "class FunctionsM07Test(unittest.TestCase):\n",
    "    def test_creacion_objeto_incorrecta(self):\n",
    "        param_list = [1, '3', 3, '6']\n",
    "        self.assertRaises(ValueError, fM07.FunctionsM07, param_list)\n",
    "\n",
    "    def test_creacion_objeto_correcta(self):\n",
    "        param_list = [5, 4, 3, 6, 4, 5]\n",
    "        res = fM07.FunctionsM07(param_list)\n",
    "        self.assertEqual(res.number_list, param_list)\n",
    "\n",
    "    def test_metodo_valor_modal(self):\n",
    "        param_list = [5, 4, 3, 6, 4, 5]\n",
    "        res = fM07.FunctionsM07(param_list)\n",
    "        self.assertEqual(res.valor_modal(), (5, 2))\n",
    "\n",
    "unittest.main(argv=[''], verbosity=2, exit=False)"
   ]
  },
  {
   "attachments": {},
   "cell_type": "markdown",
   "metadata": {},
   "source": [
    "4) Probar una creación incorrecta y visualizar la salida del \"raise\""
   ]
  },
  {
   "cell_type": "code",
   "execution_count": 19,
   "metadata": {},
   "outputs": [
    {
     "ename": "ValueError",
     "evalue": "The param must be a list",
     "output_type": "error",
     "traceback": [
      "\u001b[1;31m---------------------------------------------------------------------------\u001b[0m",
      "\u001b[1;31mValueError\u001b[0m                                Traceback (most recent call last)",
      "\u001b[1;32mc:\\Users\\USUARIO\\Desktop\\Tech Capacitation\\Python-Prep\\M09_errorhandling\\Prep_Course_Homework_09.ipynb Cell 9\u001b[0m line \u001b[0;36m1\n\u001b[1;32m----> <a href='vscode-notebook-cell:/c%3A/Users/USUARIO/Desktop/Tech%20Capacitation/Python-Prep/M09_errorhandling/Prep_Course_Homework_09.ipynb#X11sZmlsZQ%3D%3D?line=0'>1</a>\u001b[0m fns \u001b[39m=\u001b[39m fM07\u001b[39m.\u001b[39;49mFunctionsM07(\u001b[39m'\u001b[39;49m\u001b[39mtest\u001b[39;49m\u001b[39m'\u001b[39;49m)\n",
      "File \u001b[1;32mc:\\Users\\USUARIO\\Desktop\\Tech Capacitation\\Python-Prep\\M09_errorhandling\\functionsM07.py:5\u001b[0m, in \u001b[0;36mFunctionsM07.__init__\u001b[1;34m(self, number_list)\u001b[0m\n\u001b[0;32m      3\u001b[0m \u001b[39mif\u001b[39;00m \u001b[39mtype\u001b[39m(number_list) \u001b[39m!=\u001b[39m \u001b[39mlist\u001b[39m:\n\u001b[0;32m      4\u001b[0m     \u001b[39mself\u001b[39m\u001b[39m.\u001b[39mnumber_list \u001b[39m=\u001b[39m []\n\u001b[1;32m----> 5\u001b[0m     \u001b[39mraise\u001b[39;00m \u001b[39mValueError\u001b[39;00m(\u001b[39m'\u001b[39m\u001b[39mThe param must be a list\u001b[39m\u001b[39m'\u001b[39m)\n\u001b[0;32m      6\u001b[0m \u001b[39melse\u001b[39;00m:\n\u001b[0;32m      7\u001b[0m     \u001b[39mfor\u001b[39;00m e \u001b[39min\u001b[39;00m number_list:\n",
      "\u001b[1;31mValueError\u001b[0m: The param must be a list"
     ]
    }
   ],
   "source": [
    "fns = fM07.FunctionsM07('test')"
   ]
  },
  {
   "attachments": {},
   "cell_type": "markdown",
   "metadata": {},
   "source": [
    "6) Agregar casos de pruebas para el método verifica_primos() realizando el cambio en la clase, para que devuelva una lista de True o False en función de que el elemento en la posisicón sea o no primo"
   ]
  },
  {
   "cell_type": "code",
   "execution_count": 24,
   "metadata": {},
   "outputs": [
    {
     "name": "stderr",
     "output_type": "stream",
     "text": [
      "test_verifica_primos (__main__.FunctionsM07Test.test_verifica_primos) ... ok\n",
      "\n",
      "----------------------------------------------------------------------\n",
      "Ran 1 test in 0.005s\n",
      "\n",
      "OK\n"
     ]
    },
    {
     "data": {
      "text/plain": [
       "<unittest.main.TestProgram at 0x1f2ed695430>"
      ]
     },
     "execution_count": 24,
     "metadata": {},
     "output_type": "execute_result"
    }
   ],
   "source": [
    "import unittest\n",
    "import functionsM07 as fM07\n",
    "import importlib\n",
    "importlib.reload(fM07)\n",
    "\n",
    "class FunctionsM07Test(unittest.TestCase):\n",
    "    def test_verifica_primos(self):\n",
    "        param_list = [2, 4, 5, 7, 6, 9]\n",
    "        res = fM07.FunctionsM07(param_list)\n",
    "        self.assertEqual(res.verificar_primo(), [True, False, True, True, False, False])\n",
    "\n",
    "\n",
    "unittest.main(argv=[''], verbosity=2, exit=False)"
   ]
  },
  {
   "attachments": {},
   "cell_type": "markdown",
   "metadata": {},
   "source": [
    "7) Agregar casos de pruebas para el método conversion_grados()"
   ]
  },
  {
   "cell_type": "code",
   "execution_count": 27,
   "metadata": {},
   "outputs": [
    {
     "name": "stderr",
     "output_type": "stream",
     "text": [
      "test_conversion_grados (__main__.FunctionsM07Test.test_conversion_grados) ... ok\n",
      "test_conversion_grados_parametros_invalidos (__main__.FunctionsM07Test.test_conversion_grados_parametros_invalidos) ... ok\n",
      "\n",
      "----------------------------------------------------------------------\n",
      "Ran 2 tests in 0.009s\n",
      "\n",
      "OK\n"
     ]
    },
    {
     "name": "stdout",
     "output_type": "stream",
     "text": [
      "Invalid param, it can take just this values ['c', 'f', 'k']\n"
     ]
    },
    {
     "data": {
      "text/plain": [
       "<unittest.main.TestProgram at 0x1f2ed5ea1b0>"
      ]
     },
     "execution_count": 27,
     "metadata": {},
     "output_type": "execute_result"
    }
   ],
   "source": [
    "import unittest\n",
    "import functionsM07 as fM07\n",
    "import importlib\n",
    "importlib.reload(fM07)\n",
    "\n",
    "class FunctionsM07Test(unittest.TestCase):\n",
    "    def test_conversion_grados(self):\n",
    "        param_list = [1, 2, 3]\n",
    "        res = fM07.FunctionsM07(param_list)\n",
    "        self.assertEqual(res.conversion_grados('f', 'k'), [255.92777777777775, 256.4833333333333, 257.0388888888889])\n",
    "\n",
    "    def test_conversion_grados_parametros_invalidos(self):\n",
    "        res = fM07.FunctionsM07([])\n",
    "        self.assertEqual(res.conversion_grados('j', 'k'), None)\n",
    "\n",
    "unittest.main(argv=[''], verbosity=2, exit=False)"
   ]
  },
  {
   "attachments": {},
   "cell_type": "markdown",
   "metadata": {},
   "source": [
    "8) Agregar casos de pruebas para el método factorial()"
   ]
  },
  {
   "cell_type": "code",
   "execution_count": 35,
   "metadata": {},
   "outputs": [
    {
     "name": "stderr",
     "output_type": "stream",
     "text": [
      "test_metodo_factorial (__main__.FunctionsM07Test.test_metodo_factorial) ... ok\n",
      "\n",
      "----------------------------------------------------------------------\n",
      "Ran 1 test in 0.004s\n",
      "\n",
      "OK\n"
     ]
    },
    {
     "data": {
      "text/plain": [
       "<unittest.main.TestProgram at 0x1f2ed6738f0>"
      ]
     },
     "execution_count": 35,
     "metadata": {},
     "output_type": "execute_result"
    }
   ],
   "source": [
    "import unittest\n",
    "import functionsM07 as fM07\n",
    "import importlib\n",
    "importlib.reload(fM07)\n",
    "\n",
    "class FunctionsM07Test(unittest.TestCase):\n",
    "    def test_metodo_factorial(self):\n",
    "        param_list = [3, 4, 5]\n",
    "        res = fM07.FunctionsM07(param_list)\n",
    "        self.assertEqual(res.factorial(), [6, 24, 120])\n",
    "\n",
    "unittest.main(argv=[''], verbosity=2, exit=False)"
   ]
  }
 ],
 "metadata": {
  "interpreter": {
   "hash": "c85384e4cb51c8b72350f3a8712cc8351fdc3955e32a27f9b60c6242ab125f01"
  },
  "kernelspec": {
   "display_name": "Python 3 (ipykernel)",
   "language": "python",
   "name": "python3"
  },
  "language_info": {
   "codemirror_mode": {
    "name": "ipython",
    "version": 3
   },
   "file_extension": ".py",
   "mimetype": "text/x-python",
   "name": "python",
   "nbconvert_exporter": "python",
   "pygments_lexer": "ipython3",
   "version": "3.12.0"
  }
 },
 "nbformat": 4,
 "nbformat_minor": 4
}
