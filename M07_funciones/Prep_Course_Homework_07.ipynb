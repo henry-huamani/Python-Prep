{
 "cells": [
  {
   "attachments": {},
   "cell_type": "markdown",
   "metadata": {},
   "source": [
    "## Funciones"
   ]
  },
  {
   "attachments": {},
   "cell_type": "markdown",
   "metadata": {},
   "source": [
    "1) Crear una función que reciba un número como parámetro y devuelva True si es primo y False si no lo es"
   ]
  },
  {
   "cell_type": "code",
   "execution_count": 2,
   "metadata": {},
   "outputs": [
    {
     "name": "stdout",
     "output_type": "stream",
     "text": [
      "True\n",
      "False\n",
      "True\n"
     ]
    }
   ],
   "source": [
    "def f(num):\n",
    "    if num <= 1:\n",
    "        return False\n",
    "    for i in range(2, num):\n",
    "        if num % i == 0:\n",
    "            return False\n",
    "    return True\n",
    "\n",
    "print(f(2))\n",
    "print(f(4))\n",
    "print(f(7))"
   ]
  },
  {
   "attachments": {},
   "cell_type": "markdown",
   "metadata": {},
   "source": [
    "2) Utilizando la función del punto 1, realizar otra función que reciba de parámetro una lista de números y devuelva sólo aquellos que son primos en otra lista"
   ]
  },
  {
   "cell_type": "code",
   "execution_count": 5,
   "metadata": {},
   "outputs": [
    {
     "name": "stdout",
     "output_type": "stream",
     "text": [
      "[5, 7, 2]\n"
     ]
    }
   ],
   "source": [
    "x = [1, 5, 7, 6, 9, 8, 2]\n",
    "def prime_list(param):\n",
    "    new_list = []\n",
    "    for e in param:\n",
    "        if f(e):\n",
    "            new_list.append(e)\n",
    "    return new_list\n",
    "\n",
    "l = prime_list(x)\n",
    "print(l)"
   ]
  },
  {
   "attachments": {},
   "cell_type": "markdown",
   "metadata": {},
   "source": [
    "3) Crear una función que al recibir una lista de números, devuelva el que más se repite y cuántas veces lo hace. Si hay más de un \"más repetido\", que devuelva cualquiera"
   ]
  },
  {
   "cell_type": "code",
   "execution_count": 2,
   "metadata": {},
   "outputs": [
    {
     "data": {
      "text/plain": [
       "(3, 3)"
      ]
     },
     "execution_count": 2,
     "metadata": {},
     "output_type": "execute_result"
    }
   ],
   "source": [
    "num_list = [3, 6, 4, 2, 5, 3, 1, 4, 5, 6, 7, 9, 3, 2, 7]\n",
    "def e_repited(lista):\n",
    "    e_r = 0\n",
    "    c_r = 0\n",
    "    for e in lista:\n",
    "        if lista.count(e) > c_r:\n",
    "            e_r = e\n",
    "            c_r = lista.count(e)\n",
    "    return e_r, c_r\n",
    "\n",
    "e_repited(num_list)  "
   ]
  },
  {
   "attachments": {},
   "cell_type": "markdown",
   "metadata": {},
   "source": [
    "4) Crear una función que convierta entre grados Celsius, Farenheit y Kelvin<br>\n",
    "Fórmula 1\t: (°C × 9/5) + 32 = °F<br>\n",
    "Fórmula 2\t: °C + 273.15 = °K<br>\n",
    "Debe recibir 3 parámetros: el valor, la medida de orígen y la medida de destino\n"
   ]
  },
  {
   "cell_type": "code",
   "execution_count": 3,
   "metadata": {},
   "outputs": [
    {
     "name": "stdout",
     "output_type": "stream",
     "text": [
      "1 grado Celsius a Kelvin: 274.15\n",
      "1 grado Celsius a Farenheit: 33.8\n",
      "1 grado Kelvin a Celsius: -272.15\n",
      "1 grado Kelvin a Farenheit: -457.87\n",
      "1 grado Farenheit a Celsius: -17.22222222222222\n",
      "1 grado Farenheit a Kelvin: 255.92777777777775\n"
     ]
    }
   ],
   "source": [
    "def degree_conversor(value, measure_origen, measure_destiny):\n",
    "    '''\n",
    "    value: value to be converted\n",
    "    measure_origen: origin measure unity, it can be c (celsius), f (farenheit) or k (kelvin)\n",
    "    measure_destiny: origin measure destiny, it can be c (celsius), f (farenheit) or k (kelvin)\n",
    "    '''\n",
    "    if measure_origen == 'c':\n",
    "        if measure_destiny == 'f':\n",
    "            return (value * 9/5) + 32\n",
    "        elif measure_destiny == 'k':\n",
    "            return value + 273.15\n",
    "        else:\n",
    "            print('Not valid measure destiny parameter')    \n",
    "\n",
    "    elif measure_origen == 'f':\n",
    "        if measure_destiny == 'c':\n",
    "            return (value - 32) * 5/9\n",
    "        elif measure_destiny == 'k':\n",
    "            return (value - 32) * 5/9 + 273.15\n",
    "        else:\n",
    "            print('Not valid measure destiny parameter')\n",
    "\n",
    "    elif measure_origen == 'k':\n",
    "        if measure_destiny == 'c':\n",
    "            return value - 273.15\n",
    "        elif measure_destiny == 'f':\n",
    "            return ((value - 273.15) * 9/5) + 32\n",
    "        else:\n",
    "            print('Not valid measure destiny parameter')\n",
    "\n",
    "    else:\n",
    "        print('Not valid measure origen parameter')\n",
    "\n",
    "print('1 grado Celsius a Kelvin:', degree_conversor(1, 'c', 'k'))\n",
    "print('1 grado Celsius a Farenheit:', degree_conversor(1, 'c', 'f'))\n",
    "print('1 grado Kelvin a Celsius:', degree_conversor(1, 'k', 'c'))\n",
    "print('1 grado Kelvin a Farenheit:', degree_conversor(1, 'k', 'f'))\n",
    "print('1 grado Farenheit a Celsius:', degree_conversor(1, 'f', 'c'))\n",
    "print('1 grado Farenheit a Kelvin:', degree_conversor(1, 'f', 'k'))"
   ]
  },
  {
   "attachments": {},
   "cell_type": "markdown",
   "metadata": {},
   "source": [
    "5) Iterando una lista con los tres valores posibles de temperatura que recibe la función del punto 5, hacer un print para cada combinación de los mismos:"
   ]
  },
  {
   "cell_type": "code",
   "execution_count": 5,
   "metadata": {},
   "outputs": [
    {
     "name": "stdout",
     "output_type": "stream",
     "text": [
      "1 c degree to f: 33.8\n",
      "1 c degree to k: 274.15\n",
      "1 f degree to c: -17.22222222222222\n",
      "1 f degree to k: 255.92777777777775\n",
      "1 k degree to c: -272.15\n",
      "1 k degree to f: -457.87\n"
     ]
    }
   ],
   "source": [
    "degree_units = ['c', 'f', 'k']\n",
    "for e in degree_units:\n",
    "    for d in degree_units:\n",
    "        if e != d:\n",
    "            print('1 %s degree to %s:'%(e, d), degree_conversor(1, e, d))"
   ]
  },
  {
   "attachments": {},
   "cell_type": "markdown",
   "metadata": {},
   "source": [
    "6) Armar una función que devuelva el factorial de un número. Tener en cuenta que el usuario puede equivocarse y enviar de parámetro un número no entero o negativo"
   ]
  },
  {
   "cell_type": "code",
   "execution_count": 14,
   "metadata": {},
   "outputs": [
    {
     "name": "stdout",
     "output_type": "stream",
     "text": [
      "Factorial of 6 es: 720\n",
      "Factorial of 2.400000 es: Invalid parameter\n",
      "Factorial of -8 es: Invalid parameter\n",
      "Factorial of 9 es: Invalid parameter\n"
     ]
    }
   ],
   "source": [
    "def factorial(n):\n",
    "    if type(n) != int or n < 0:\n",
    "        return 'Invalid parameter'\n",
    "    elif n <= 1:\n",
    "        return 1\n",
    "    else:\n",
    "        return n * factorial(n - 1)\n",
    "\n",
    "print('Factorial of %d es:'%(6), factorial(6))\n",
    "print('Factorial of %f es:'%(2.4), factorial(2.4))\n",
    "print('Factorial of %d es:'%(-8), factorial(-8))\n",
    "print('Factorial of %s es:'%('9'), factorial('9'))"
   ]
  }
 ],
 "metadata": {
  "interpreter": {
   "hash": "c85384e4cb51c8b72350f3a8712cc8351fdc3955e32a27f9b60c6242ab125f01"
  },
  "kernelspec": {
   "display_name": "Python 3 (ipykernel)",
   "language": "python",
   "name": "python3"
  },
  "language_info": {
   "codemirror_mode": {
    "name": "ipython",
    "version": 3
   },
   "file_extension": ".py",
   "mimetype": "text/x-python",
   "name": "python",
   "nbconvert_exporter": "python",
   "pygments_lexer": "ipython3",
   "version": "3.12.0"
  }
 },
 "nbformat": 4,
 "nbformat_minor": 4
}
